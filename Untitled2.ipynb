{
  "nbformat": 4,
  "nbformat_minor": 0,
  "metadata": {
    "colab": {
      "provenance": [],
      "authorship_tag": "ABX9TyNSYOEBKCiyq1r4jz7GZlG1",
      "include_colab_link": true
    },
    "kernelspec": {
      "name": "python3",
      "display_name": "Python 3"
    },
    "language_info": {
      "name": "python"
    }
  },
  "cells": [
    {
      "cell_type": "markdown",
      "metadata": {
        "id": "view-in-github",
        "colab_type": "text"
      },
      "source": [
        "<a href=\"https://colab.research.google.com/github/ABUBAKAR755/HMS/blob/main/Untitled2.ipynb\" target=\"_parent\"><img src=\"https://colab.research.google.com/assets/colab-badge.svg\" alt=\"Open In Colab\"/></a>"
      ]
    },
    {
      "cell_type": "code",
      "execution_count": 1,
      "metadata": {
        "id": "_OgYsTJ-7NnV",
        "colab": {
          "base_uri": "https://localhost:8080/"
        },
        "outputId": "0c4ed0bd-32eb-4fa2-9669-ffcb5d8d8c69"
      },
      "outputs": [
        {
          "output_type": "stream",
          "name": "stdout",
          "text": [
            "Welcome to Hangman!\n",
            "I'm thinking of a fruit name. Can you guess it?\n",
            "You have 6 attempts. Good luck!\n",
            "\n",
            "Word: _ _ _ _ _\n",
            "Guess a letter: m\n",
            "Sorry, 'm' is not in the word.\n",
            "Attempts remaining: 5\n",
            "\n",
            "Word: _ _ _ _ _\n",
            "Guess a letter: g\n",
            "Sorry, 'g' is not in the word.\n",
            "Attempts remaining: 4\n",
            "\n",
            "Word: _ _ _ _ _\n",
            "Guess a letter: s\n",
            "Sorry, 's' is not in the word.\n",
            "Attempts remaining: 3\n",
            "\n",
            "Word: _ _ _ _ _\n",
            "Guess a letter: t\n",
            "Sorry, 't' is not in the word.\n",
            "Attempts remaining: 2\n",
            "\n",
            "Word: _ _ _ _ _\n",
            "Guess a letter: r\n",
            "Sorry, 'r' is not in the word.\n",
            "Attempts remaining: 1\n",
            "\n",
            "Word: _ _ _ _ _\n",
            "Guess a letter: w\n",
            "Sorry, 'w' is not in the word.\n",
            "Attempts remaining: 0\n",
            "\n",
            "Oops! You ran out of attempts.\n",
            "The word was: apple\n"
          ]
        }
      ],
      "source": [
        "import random\n",
        "\n",
        "def hangman():\n",
        "    # A small list of words to guess from\n",
        "    words = [\"apple\", \"banana\", \"orange\", \"grape\", \"strawberry\", \"mango\", \"watermelon\"]\n",
        "\n",
        "    # Randomly pick a secret word\n",
        "    secret_word = random.choice(words).lower()\n",
        "\n",
        "    # Keep track of guessed letters and the number of attempts left\n",
        "    guessed_letters = set()\n",
        "    attempts = 6  # You can increase/decrease the number of allowed guesses\n",
        "\n",
        "    print(\"Welcome to Hangman!\")\n",
        "    print(\"I'm thinking of a fruit name. Can you guess it?\")\n",
        "    print(f\"You have {attempts} attempts. Good luck!\\n\")\n",
        "\n",
        "    # Main game loop\n",
        "    while attempts > 0:\n",
        "\n",
        "        # Display the puzzle board, showing underscores for unguessed letters\n",
        "        current_display = \"\"\n",
        "        for char in secret_word:\n",
        "            if char in guessed_letters:\n",
        "                current_display += char + \" \"\n",
        "            else:\n",
        "                current_display += \"_ \"\n",
        "\n",
        "        print(\"Word:\", current_display.strip())\n",
        "\n",
        "        # Check if the user has guessed the entire word\n",
        "        if all(letter in guessed_letters for letter in secret_word):\n",
        "            print(\"\\nCongratulations! You guessed the word correctly!\")\n",
        "            break\n",
        "\n",
        "        # Ask for the player's guess\n",
        "        guess = input(\"Guess a letter: \").lower()\n",
        "\n",
        "        # Basic input validation\n",
        "        if not guess.isalpha() or len(guess) != 1:\n",
        "            print(\"Please enter a single letter.\\n\")\n",
        "            continue\n",
        "\n",
        "        if guess in guessed_letters:\n",
        "            print(f\"You already guessed '{guess}'. Try a different letter.\\n\")\n",
        "            continue\n",
        "\n",
        "        # Add the guess to guessed letters\n",
        "        guessed_letters.add(guess)\n",
        "\n",
        "        # Check if guess is correct\n",
        "        if guess in secret_word:\n",
        "            print(f\"Good job! The letter '{guess}' is in the word.\\n\")\n",
        "        else:\n",
        "            attempts -= 1\n",
        "            print(f\"Sorry, '{guess}' is not in the word.\")\n",
        "            print(f\"Attempts remaining: {attempts}\\n\")\n",
        "\n",
        "    else:\n",
        "        # If we exit the while loop by running out of attempts,\n",
        "        # the user did not guess the word in time.\n",
        "        print(\"Oops! You ran out of attempts.\")\n",
        "        print(f\"The word was: {secret_word}\")\n",
        "\n",
        "if __name__ == \"__main__\":\n",
        "    hangman()\n"
      ]
    }
  ]
}